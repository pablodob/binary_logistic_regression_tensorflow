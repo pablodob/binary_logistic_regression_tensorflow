{
 "cells": [
  {
   "cell_type": "markdown",
   "metadata": {},
   "source": [
    "# Binary logistic regression model"
   ]
  },
  {
   "cell_type": "code",
   "execution_count": 1,
   "metadata": {},
   "outputs": [
    {
     "name": "stderr",
     "output_type": "stream",
     "text": [
      "/home/pablo/anaconda3/lib/python3.6/site-packages/h5py/__init__.py:36: FutureWarning: Conversion of the second argument of issubdtype from `float` to `np.floating` is deprecated. In future, it will be treated as `np.float64 == np.dtype(float).type`.\n",
      "  from ._conv import register_converters as _register_converters\n"
     ]
    }
   ],
   "source": [
    "import tensorflow as tf\n",
    "import numpy as np"
   ]
  },
  {
   "cell_type": "markdown",
   "metadata": {},
   "source": [
    "### Create placeholders for inputs and labels"
   ]
  },
  {
   "cell_type": "code",
   "execution_count": 2,
   "metadata": {},
   "outputs": [],
   "source": [
    "# Inputs\n",
    "x = tf.placeholder(shape=(None,2),dtype=tf.float32, name=\"inputs\")\n",
    "# Labels\n",
    "y = tf.placeholder(shape=(None,1),dtype=tf.float32, name=\"labels\")"
   ]
  },
  {
   "cell_type": "markdown",
   "metadata": {},
   "source": [
    "### Create Variable tensors for weights and bias\n",
    "This tensors are initialized with random values"
   ]
  },
  {
   "cell_type": "code",
   "execution_count": 3,
   "metadata": {},
   "outputs": [],
   "source": [
    "w = tf.Variable(tf.random_normal([2,1]), dtype=tf.float32, name=\"weight\")\n",
    "b = tf.Variable(tf.random_normal([1]), dtype=tf.float32, name=\"bias\")\n",
    "\n",
    "def linear_layer(x, w, b):\n",
    "    return tf.matmul(x,w) + b\n",
    "\n",
    "init = tf.global_variables_initializer()"
   ]
  },
  {
   "cell_type": "markdown",
   "metadata": {},
   "source": [
    "### Building the model"
   ]
  },
  {
   "cell_type": "code",
   "execution_count": 4,
   "metadata": {},
   "outputs": [
    {
     "data": {
      "text/plain": [
       "<tf.Tensor 'Sigmoid:0' shape=(?, 1) dtype=float32>"
      ]
     },
     "execution_count": 4,
     "metadata": {},
     "output_type": "execute_result"
    }
   ],
   "source": [
    "output = tf.sigmoid(linear_layer(x, w, b))\n",
    "output"
   ]
  },
  {
   "cell_type": "markdown",
   "metadata": {},
   "source": [
    "### Cost and Optimizer"
   ]
  },
  {
   "cell_type": "code",
   "execution_count": 14,
   "metadata": {},
   "outputs": [],
   "source": [
    "l = 1\n",
    "with tf.name_scope(\"Cost_and_Optimizer\"):\n",
    "    cost = tf.reduce_sum(tf.nn.sigmoid_cross_entropy_with_logits(labels=y,logits=output,name=\"cost\"))\n",
    "    optimizer = tf.train.GradientDescentOptimizer(l)\n",
    "    train = optimizer.minimize(cost)"
   ]
  },
  {
   "cell_type": "code",
   "execution_count": 15,
   "metadata": {},
   "outputs": [],
   "source": [
    "x_train = []\n",
    "y_train = []\n",
    "\n",
    "import csv\n",
    "\n",
    "with open(\"./data/example_1.csv\", 'r', newline='') as csvfile:\n",
    "    reader = csv.DictReader(csvfile)\n",
    "    for row in reader:\n",
    "        x_train.append([float(row['x1']),float(row['x2'])])\n",
    "        y_train.append([float(row['y'])])\n",
    "        \n",
    "x_train = np.array(x_train)\n",
    "y_train = np.array(y_train)"
   ]
  },
  {
   "cell_type": "code",
   "execution_count": 18,
   "metadata": {},
   "outputs": [
    {
     "name": "stdout",
     "output_type": "stream",
     "text": [
      "Epoch N°: 0 - Cost = 2.910815477371216 - Accuracy = 50.0%\n",
      "Epoch N°: 100 - Cost = 2.069517135620117 - Accuracy = 100.0%\n",
      "Epoch N°: 200 - Cost = 2.0398621559143066 - Accuracy = 100.0%\n",
      "Epoch N°: 300 - Cost = 2.030484437942505 - Accuracy = 100.0%\n",
      "Epoch N°: 400 - Cost = 2.025916337966919 - Accuracy = 100.0%\n",
      "Epoch N°: 500 - Cost = 2.0232186317443848 - Accuracy = 100.0%\n",
      "Epoch N°: 600 - Cost = 2.021439552307129 - Accuracy = 100.0%\n",
      "Epoch N°: 700 - Cost = 2.020179033279419 - Accuracy = 100.0%\n",
      "Epoch N°: 800 - Cost = 2.0192391872406006 - Accuracy = 100.0%\n",
      "Epoch N°: 900 - Cost = 2.0185117721557617 - Accuracy = 100.0%\n"
     ]
    }
   ],
   "source": [
    "tf.summary.scalar(\"Cost\", cost)\n",
    "tf.summary.histogram(\"weights\", w)\n",
    "tf.summary.histogram(\"biases\", b)\n",
    "epoch = 1000\n",
    "\n",
    "with tf.Session() as sess:\n",
    "    merged_summary = tf.summary.merge_all()\n",
    "    writer = tf.summary.FileWriter(\"./summaries/2\")\n",
    "    writer.add_graph(sess.graph)\n",
    "    sess.run(init)\n",
    "\n",
    "    ## Batch_size = 1\n",
    "#     for i in range(epoch):\n",
    "#         for j in range(len(x_train)):\n",
    "#             sess.run(train, feed_dict={x: [x_train[j]], y: [y_train[j]]})\n",
    "        ####\n",
    "    \n",
    "## Batch_size = m\n",
    "    for i in range(epoch):\n",
    "        sess.run(train, feed_dict={x: x_train, y: y_train})\n",
    "\n",
    "        if i%100 == 0:\n",
    "            partial_cost = sess.run(cost, {x: x_train, y: y_train})\n",
    "            outputs = sess.run(output, {x: x_train, y: y_train})\n",
    "            predictions = outputs > 0.5\n",
    "           \n",
    "            accuracy = np.sum(y_train == predictions) / y_train.shape[0]\n",
    "           \n",
    "            print(\"Epoch N°: {} - Cost = {} - Accuracy = {}%\".format(i, partial_cost, accuracy * 100))\n",
    "           \n",
    "            s = sess.run(merged_summary, {x: x_train, y: y_train})\n",
    "            writer.add_summary(s, i)\n",
    "    \n",
    "        \n",
    "    final_w, final_b, final_cost = sess.run([w, b, cost], {x: x_train, y: y_train})\n",
    "    "
   ]
  },
  {
   "cell_type": "markdown",
   "metadata": {
    "collapsed": true
   },
   "source": [
    "### Final model"
   ]
  },
  {
   "cell_type": "code",
   "execution_count": null,
   "metadata": {},
   "outputs": [],
   "source": [
    "print(\"Final function: Y = %s * X + %s\"%(final_w, final_b))\n",
    "print(\"Final cost: %s\"%final_cost)"
   ]
  },
  {
   "cell_type": "markdown",
   "metadata": {},
   "source": [
    "### TensorBoard - Graph visualization\n",
    "![title](graph.png)"
   ]
  }
 ],
 "metadata": {
  "kernelspec": {
   "display_name": "Python 3",
   "language": "python",
   "name": "python3"
  },
  "language_info": {
   "codemirror_mode": {
    "name": "ipython",
    "version": 3
   },
   "file_extension": ".py",
   "mimetype": "text/x-python",
   "name": "python",
   "nbconvert_exporter": "python",
   "pygments_lexer": "ipython3",
   "version": "3.6.5"
  }
 },
 "nbformat": 4,
 "nbformat_minor": 2
}
